{
 "cells": [
  {
   "cell_type": "code",
   "execution_count": null,
   "metadata": {
    "collapsed": true
   },
   "outputs": [],
   "source": [
    "%matplotlib inline"
   ]
  },
  {
   "cell_type": "code",
   "execution_count": null,
   "metadata": {},
   "outputs": [],
   "source": [
    "from parsing import *\n",
    "cr = CensusReader(\"CometLanding.csv\")"
   ]
  },
  {
   "cell_type": "code",
   "execution_count": 2,
   "metadata": {
    "collapsed": false
   },
   "outputs": [],
   "source": [
    "from parsing import *\n",
    "import json\n",
    "from wordcloud import WordCloud\n",
    "import matplotlib.pyplot as plt\n",
    "\n",
    "data = CensusReader(\"CometLanding_refined.csv\").data\n",
    "hashTags = data.loc[:, 'entities_str']\n",
    "words = []\n",
    "for i, v in hashTags.items():\n",
    "    try:\n",
    "        j = json.loads(v)\n",
    "        for tag in j['hashtags']:\n",
    "            if tag['text'] != \"CometLanding\":\n",
    "                words.append(tag['text'])\n",
    "    except TypeError:\n",
    "        pass\n",
    "\n",
    "wordcloud = WordCloud(width=1000, height=500).generate(\" \".join(words))\n",
    "plt.figure()\n",
    "plt.imshow(wordcloud, interpolation=\"bilinear\")\n",
    "plt.axis(\"off\")\n",
    "plt.show()"
   ]
  },
  {
   "cell_type": "code",
   "execution_count": 1,
   "metadata": {},
   "outputs": [],
   "source": [
    "from parsing import *\n",
    "import matplotlib.pyplot as plt\n",
    "from plotter import *\n",
    "\n",
    "cr = CensusReader(\"CometLanding_refined.csv\")\n",
    "data = cr.data\n",
    "hashTags = data.loc[:, 'entities_str']\n",
    "\n",
    "retweets = cr.retweetCount()\n",
    "replys = cr.replyCount()\n",
    "tweets = cr.tweetCount()\n",
    "\n",
    "plotter = Plotter()\n",
    "plotter.structurePlot(tweets, retweets, replys)"
   ]
  },
  {
   "cell_type": "code",
   "execution_count": null,
   "metadata": {},
   "outputs": [],
   "source": [
    "from parsing import *\n",
    "import matplotlib.pyplot as plt\n",
    "from plotter import *\n",
    "\n",
    "cr = CensusReader(\"CometLanding_refined.csv\")\n",
    "data = cr.data\n",
    "hashTags = data.loc[:, 'entities_str']\n",
    "plotter = Plotter()\n",
    "plotter.tweetsTimeLine(data)"
   ]
  },
  {
   "cell_type": "code",
   "execution_count": null,
   "metadata": {},
   "outputs": [],
   "source": []
  }
 ],
 "metadata": {
  "kernelspec": {
   "display_name": "Python 2",
   "language": "python",
   "name": "python2"
  },
  "language_info": {
   "codemirror_mode": {
    "name": "ipython",
    "version": 2
   },
   "file_extension": ".py",
   "mimetype": "text/x-python",
   "name": "python",
   "nbconvert_exporter": "python",
   "pygments_lexer": "ipython2",
   "version": "2.7.6"
  }
 },
 "nbformat": 4,
 "nbformat_minor": 0
}
